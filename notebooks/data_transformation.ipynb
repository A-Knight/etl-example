{
 "cells": [
  {
   "cell_type": "code",
   "execution_count": 28,
   "metadata": {},
   "outputs": [],
   "source": [
    "import pandas as pd\n",
    "import os\n",
    "from etl.extract.extract import extract_data\n",
    "from config.env_config import setup_env\n"
   ]
  },
  {
   "cell_type": "code",
   "execution_count": null,
   "metadata": {},
   "outputs": [],
   "source": [
    "# You need to make sure that the notebook thinks its executing from the root of the project!\n",
    "\n",
    "print(os.getcwd())\n",
    "os.chdir('../')\n",
    "print(os.getcwd())\n",
    "\n",
    "setup_env(['run_etl', 'dev'])"
   ]
  },
  {
   "cell_type": "code",
   "execution_count": 29,
   "metadata": {},
   "outputs": [],
   "source": [
    "# Extract the data\n",
    "# extracted_data = extract_data()\n",
    "# # Put the tuples into separate dataframes\n",
    "# transactions = pd.DataFrame(extracted_data[0])\n",
    "# customers = pd.DataFrame(extracted_data[1])\n",
    "\n",
    "transactions = pd.read_csv('../tests/test_data/test_transactions.csv')\n"
   ]
  },
  {
   "cell_type": "markdown",
   "metadata": {},
   "source": [
    "### Transform and clean the transactions data"
   ]
  },
  {
   "cell_type": "markdown",
   "metadata": {},
   "source": [
    "#### Remove missing values"
   ]
  },
  {
   "cell_type": "code",
   "execution_count": 30,
   "metadata": {},
   "outputs": [
    {
     "name": "stdout",
     "output_type": "stream",
     "text": [
      "<class 'pandas.core.frame.DataFrame'>\n",
      "Index: 10246 entries, 0 to 10499\n",
      "Data columns (total 4 columns):\n",
      " #   Column            Non-Null Count  Dtype \n",
      "---  ------            --------------  ----- \n",
      " 0   transaction_id    10246 non-null  int64 \n",
      " 1   customer_id       10246 non-null  int64 \n",
      " 2   transaction_date  10246 non-null  object\n",
      " 3   amount            10246 non-null  object\n",
      "dtypes: int64(2), object(2)\n",
      "memory usage: 400.2+ KB\n"
     ]
    }
   ],
   "source": [
    "# remove rows with null values in transaction from the transaction dataframe\n",
    "transactions = transactions.dropna(subset=['transaction_date'])\n",
    "\n",
    "# remove rows with null values in amount from the transaction dataframe\n",
    "transactions = transactions.dropna(subset=['amount'])\n",
    "\n",
    "# See information about the transactions dataframe\n",
    "transactions.info()"
   ]
  },
  {
   "cell_type": "markdown",
   "metadata": {},
   "source": [
    "#### Remove invalid values"
   ]
  },
  {
   "cell_type": "code",
   "execution_count": 31,
   "metadata": {},
   "outputs": [],
   "source": [
    "# Remove rows with the value of \"INVALID\" in the amount column\n",
    "\n",
    "transactions = transactions[transactions['amount'] != 'INVALID']\n",
    "\n",
    "# transactions.info()\n"
   ]
  },
  {
   "cell_type": "markdown",
   "metadata": {},
   "source": [
    "#### Standardise the date format"
   ]
  },
  {
   "cell_type": "code",
   "execution_count": 32,
   "metadata": {},
   "outputs": [
    {
     "name": "stdout",
     "output_type": "stream",
     "text": [
      "<class 'pandas.core.frame.DataFrame'>\n",
      "Index: 10205 entries, 0 to 10499\n",
      "Data columns (total 4 columns):\n",
      " #   Column            Non-Null Count  Dtype \n",
      "---  ------            --------------  ----- \n",
      " 0   transaction_id    10205 non-null  int64 \n",
      " 1   customer_id       10205 non-null  int64 \n",
      " 2   transaction_date  8977 non-null   object\n",
      " 3   amount            10205 non-null  object\n",
      "dtypes: int64(2), object(2)\n",
      "memory usage: 398.6+ KB\n"
     ]
    }
   ],
   "source": [
    "# Convert all dates into dd/mm/yyyy format - write function to handle the different types of date formats\n",
    "\n",
    "def standardise_date(date_str):\n",
    "    if pd.isna(date_str) or date_str == '':\n",
    "        return pd.NaT\n",
    "\n",
    "    formats = [\n",
    "        '%Y/%m/%d', '%Y-%m-%d', '%d %b %Y', '%b %d, %Y', '%d %B %Y',\n",
    "        '%d-%m-%Y', '%d/%m/%Y'\n",
    "    ]\n",
    "    for fmt in formats:\n",
    "        try:\n",
    "            return pd.to_datetime(date_str, format=fmt)\n",
    "        except ValueError:\n",
    "            continue\n",
    "\n",
    "    return pd.NaT\n",
    "\n",
    "\n",
    "# Apply the parse_date function to the transaction_date column\n",
    "transactions['transaction_date'] = (\n",
    "    transactions['transaction_date'].apply(standardise_date)\n",
    ")\n",
    "transactions['transaction_date'] = (\n",
    "    transactions['transaction_date'].dt.strftime('%d/%m/%Y')\n",
    ")\n",
    "\n",
    "# Display the DataFrame info\n",
    "transactions.info()"
   ]
  },
  {
   "cell_type": "markdown",
   "metadata": {},
   "source": [
    "#### Remove any duplicates after cleaning and transforming"
   ]
  },
  {
   "cell_type": "code",
   "execution_count": 33,
   "metadata": {},
   "outputs": [
    {
     "name": "stdout",
     "output_type": "stream",
     "text": [
      "<class 'pandas.core.frame.DataFrame'>\n",
      "Index: 9702 entries, 0 to 9981\n",
      "Data columns (total 4 columns):\n",
      " #   Column            Non-Null Count  Dtype \n",
      "---  ------            --------------  ----- \n",
      " 0   transaction_id    9702 non-null   int64 \n",
      " 1   customer_id       9702 non-null   int64 \n",
      " 2   transaction_date  8534 non-null   object\n",
      " 3   amount            9702 non-null   object\n",
      "dtypes: int64(2), object(2)\n",
      "memory usage: 379.0+ KB\n",
      "1168\n"
     ]
    }
   ],
   "source": [
    "\n",
    "# Drop duplicates\n",
    "\n",
    "transactions.drop_duplicates(inplace=True)\n",
    "\n",
    "transactions.info()\n",
    "\n",
    "# how many nan in transaction_date?\n",
    "\n",
    "nan_count = transactions['transaction_date'].isna().sum()\n",
    "\n",
    "print(nan_count)"
   ]
  },
  {
   "cell_type": "code",
   "execution_count": 34,
   "metadata": {},
   "outputs": [
    {
     "name": "stdout",
     "output_type": "stream",
     "text": [
      "<class 'pandas.core.frame.DataFrame'>\n",
      "Index: 8534 entries, 0 to 9981\n",
      "Data columns (total 4 columns):\n",
      " #   Column            Non-Null Count  Dtype \n",
      "---  ------            --------------  ----- \n",
      " 0   transaction_id    8534 non-null   int64 \n",
      " 1   customer_id       8534 non-null   int64 \n",
      " 2   transaction_date  8534 non-null   object\n",
      " 3   amount            8534 non-null   object\n",
      "dtypes: int64(2), object(2)\n",
      "memory usage: 333.4+ KB\n"
     ]
    }
   ],
   "source": [
    "transactions = transactions.dropna(subset=['transaction_date'])\n",
    "\n",
    "transactions.info()"
   ]
  },
  {
   "cell_type": "code",
   "execution_count": 38,
   "metadata": {},
   "outputs": [],
   "source": [
    "# export to results file\n",
    "\n",
    "transactions.to_csv('../tests/test_data/expected_transactions_clean_results.csv', index=False)"
   ]
  },
  {
   "cell_type": "markdown",
   "metadata": {},
   "source": [
    "---"
   ]
  },
  {
   "cell_type": "markdown",
   "metadata": {},
   "source": [
    "### Clean and Standardise the customer data"
   ]
  },
  {
   "cell_type": "code",
   "execution_count": 7,
   "metadata": {},
   "outputs": [
    {
     "ename": "NameError",
     "evalue": "name 'customers' is not defined",
     "output_type": "error",
     "traceback": [
      "\u001b[0;31m---------------------------------------------------------------------------\u001b[0m",
      "\u001b[0;31mNameError\u001b[0m                                 Traceback (most recent call last)",
      "Cell \u001b[0;32mIn[7], line 3\u001b[0m\n\u001b[1;32m      1\u001b[0m \u001b[38;5;66;03m# Do the similar for customers\u001b[39;00m\n\u001b[0;32m----> 3\u001b[0m \u001b[43mcustomers\u001b[49m\u001b[38;5;241m.\u001b[39minfo()\n",
      "\u001b[0;31mNameError\u001b[0m: name 'customers' is not defined"
     ]
    }
   ],
   "source": [
    "# Do the similar for customers\n",
    "\n",
    "customers.info()"
   ]
  },
  {
   "cell_type": "markdown",
   "metadata": {},
   "source": [
    "#### Remove missing values"
   ]
  },
  {
   "cell_type": "code",
   "execution_count": null,
   "metadata": {},
   "outputs": [],
   "source": [
    "customers.dropna(inplace=True)\n",
    "\n",
    "customers.info()"
   ]
  },
  {
   "cell_type": "markdown",
   "metadata": {},
   "source": [
    "#### Standardise the country names to uppercase"
   ]
  },
  {
   "cell_type": "code",
   "execution_count": null,
   "metadata": {},
   "outputs": [],
   "source": [
    "# Capitalize country names\n",
    "customers['country'] = customers['country'].str.upper()\n",
    "\n",
    "customers"
   ]
  },
  {
   "cell_type": "markdown",
   "metadata": {},
   "source": [
    "#### Standardise the is_active column to True or False"
   ]
  },
  {
   "cell_type": "code",
   "execution_count": null,
   "metadata": {},
   "outputs": [],
   "source": [
    "# convert all strings `active` or `inactive` to boolean values as well as integer values 0 and 1 to their boolean counterparts\n",
    "\n",
    "def parse_active(active_str):\n",
    "    if str(active_str.lower()) == 'active' or str(active_str) == '1':\n",
    "        return True\n",
    "    else:\n",
    "        return False\n",
    "\n",
    "\n",
    "# Apply the parse_active function to the active column\n",
    "customers['is_active'] = customers['is_active'].apply(parse_active)\n",
    "\n",
    "customers"
   ]
  },
  {
   "cell_type": "markdown",
   "metadata": {},
   "source": [
    "#### Remove duplicates from the customers dataframe"
   ]
  },
  {
   "cell_type": "code",
   "execution_count": null,
   "metadata": {},
   "outputs": [],
   "source": [
    "# Check for duplicates in the customers dataframe\n",
    "duplicate_count = customers.duplicated().sum()\n",
    "print(f\"Number of duplicate rows in customers dataframe: {duplicate_count}\")"
   ]
  },
  {
   "cell_type": "code",
   "execution_count": null,
   "metadata": {},
   "outputs": [],
   "source": [
    "customers.drop_duplicates(inplace=True)\n",
    "\n",
    "customers.info()"
   ]
  },
  {
   "cell_type": "markdown",
   "metadata": {},
   "source": [
    "---"
   ]
  },
  {
   "cell_type": "markdown",
   "metadata": {},
   "source": [
    "### Merge the dataframes"
   ]
  },
  {
   "cell_type": "code",
   "execution_count": null,
   "metadata": {},
   "outputs": [],
   "source": [
    "# Merge the dataframes on customer_id\n",
    "\n",
    "merged_data = pd.merge(transactions, customers, on='customer_id')\n",
    "\n",
    "merged_data.info()"
   ]
  },
  {
   "cell_type": "code",
   "execution_count": null,
   "metadata": {},
   "outputs": [],
   "source": [
    "merged_data.head()"
   ]
  },
  {
   "cell_type": "code",
   "execution_count": null,
   "metadata": {},
   "outputs": [],
   "source": []
  }
 ],
 "metadata": {
  "kernelspec": {
   "display_name": ".venv",
   "language": "python",
   "name": "python3"
  },
  "language_info": {
   "codemirror_mode": {
    "name": "ipython",
    "version": 3
   },
   "file_extension": ".py",
   "mimetype": "text/x-python",
   "name": "python",
   "nbconvert_exporter": "python",
   "pygments_lexer": "ipython3",
   "version": "3.13.1"
  }
 },
 "nbformat": 4,
 "nbformat_minor": 2
}
