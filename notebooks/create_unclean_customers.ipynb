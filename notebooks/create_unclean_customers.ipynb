{
 "cells": [
  {
   "cell_type": "code",
   "execution_count": 1,
   "metadata": {},
   "outputs": [],
   "source": [
    "import pandas as pd"
   ]
  },
  {
   "cell_type": "code",
   "execution_count": 2,
   "metadata": {},
   "outputs": [],
   "source": [
    "existing_customers = pd.read_csv('../data/raw/unclean_customers.csv')\n",
    "\n",
    "existing_customers['age'] = existing_customers['age'].astype('Int64')"
   ]
  },
  {
   "cell_type": "code",
   "execution_count": null,
   "metadata": {},
   "outputs": [],
   "source": [
    "# Examine\n",
    "\n",
    "existing_customers.info()"
   ]
  },
  {
   "cell_type": "code",
   "execution_count": null,
   "metadata": {},
   "outputs": [],
   "source": [
    "# Clean\n",
    "\n",
    "# count duplicates\n",
    "\n",
    "print(existing_customers.duplicated().sum())\n",
    "\n",
    "existing_customers.drop_duplicates(inplace=True)\n",
    "\n",
    "print(existing_customers.duplicated().sum())\n",
    "print(existing_customers.info())\n",
    "\n",
    "# sort on customer_id\n",
    "\n",
    "existing_customers.sort_values(by='customer_id', inplace=True)\n",
    "\n",
    "## remove second of any duplicate customer_ids\n",
    "\n",
    "existing_customers.drop_duplicates(subset='customer_id', keep='first', inplace=True)\n",
    "\n",
    "print(existing_customers.info())\n",
    "\n",
    "\n",
    "# write intermediate data to csv\n",
    "\n",
    "# existing_customers.to_csv('../data/processed/interim_customers.csv', index=False)"
   ]
  },
  {
   "cell_type": "code",
   "execution_count": null,
   "metadata": {},
   "outputs": [],
   "source": [
    "# Randomly remove 2.86% of rows\n",
    "\n",
    "existing_customers = existing_customers.sample(frac=0.9714)\n",
    "\n",
    "# Now we have how many rows?\n",
    "\n",
    "print(existing_customers.info())"
   ]
  },
  {
   "cell_type": "code",
   "execution_count": null,
   "metadata": {},
   "outputs": [],
   "source": [
    "# To make the data 5200 rows again we need to duplicate 149 rows\n",
    "\n",
    "existing_customers = pd.concat([existing_customers, existing_customers.sample(n=149)])\n",
    "\n",
    "print(existing_customers.info())"
   ]
  },
  {
   "cell_type": "code",
   "execution_count": 7,
   "metadata": {},
   "outputs": [],
   "source": [
    "# Save interim\n",
    "\n",
    "existing_customers.to_csv('../data/processed/interim_customers_with_duplicates.csv', index=False)\n",
    "\n",
    "# Save final\n",
    "\n",
    "existing_customers.to_csv('../data/raw/unclean_customers.csv', index=False)"
   ]
  },
  {
   "cell_type": "code",
   "execution_count": null,
   "metadata": {},
   "outputs": [],
   "source": [
    "# Check for duplicates\n",
    "\n",
    "print(existing_customers.duplicated().sum())\n",
    "\n",
    "print(existing_customers.duplicated(subset='customer_id').sum())"
   ]
  },
  {
   "cell_type": "code",
   "execution_count": null,
   "metadata": {},
   "outputs": [],
   "source": [
    "# check for nulls in customer_id\n",
    "\n",
    "print(existing_customers['customer_id'].isnull().sum())"
   ]
  },
  {
   "cell_type": "code",
   "execution_count": null,
   "metadata": {},
   "outputs": [],
   "source": [
    "# check for nulls in age\n",
    "\n",
    "print(existing_customers['age'].isnull().sum())"
   ]
  },
  {
   "cell_type": "code",
   "execution_count": null,
   "metadata": {},
   "outputs": [],
   "source": [
    "# check for missing country\n",
    "\n",
    "print(existing_customers['country'].isnull().sum())"
   ]
  },
  {
   "cell_type": "code",
   "execution_count": null,
   "metadata": {},
   "outputs": [],
   "source": [
    "print(existing_customers['is_active'].isnull().sum())"
   ]
  },
  {
   "cell_type": "code",
   "execution_count": null,
   "metadata": {},
   "outputs": [],
   "source": [
    "# Find duplicates\n",
    "duplicates = existing_customers[existing_customers.duplicated(subset='customer_id', keep='first')]\n",
    "\n",
    "# Find duplicates with missing country or missing is_active\n",
    "missing_country_or_is_active = duplicates[duplicates['country'].isnull() | duplicates['is_active'].isnull()]\n",
    "\n",
    "# Print the count\n",
    "print(missing_country_or_is_active.shape[0])"
   ]
  },
  {
   "cell_type": "code",
   "execution_count": 3,
   "metadata": {},
   "outputs": [
    {
     "name": "stdout",
     "output_type": "stream",
     "text": [
      "4594\n"
     ]
    }
   ],
   "source": [
    "# Remove rows with missing country or missing is_active\n",
    "existing_customers = existing_customers.dropna(subset=['country', 'is_active'])\n",
    "\n",
    "# Print the count of remaining rows\n",
    "print(existing_customers.shape[0])\n"
   ]
  },
  {
   "cell_type": "code",
   "execution_count": 4,
   "metadata": {},
   "outputs": [],
   "source": [
    "# Transform the countries to uppercase\n",
    "\n",
    "existing_customers['country'] = existing_customers['country'].str.upper()"
   ]
  },
  {
   "cell_type": "code",
   "execution_count": 5,
   "metadata": {},
   "outputs": [],
   "source": [
    "# Transform the is_active column to boolean\n",
    "\n",
    "def standardise_is_active(is_active_value: str) -> bool:\n",
    "    if str(is_active_value.lower()) == 'active' or str(is_active_value) == '1':\n",
    "        return True\n",
    "    else:\n",
    "        return False\n",
    "\n",
    "existing_customers.loc[:, 'is_active'] = existing_customers['is_active'].apply(\n",
    "    standardise_is_active\n",
    ")"
   ]
  },
  {
   "cell_type": "code",
   "execution_count": 6,
   "metadata": {},
   "outputs": [
    {
     "name": "stdout",
     "output_type": "stream",
     "text": [
      "4457\n"
     ]
    }
   ],
   "source": [
    "# Remove duplicates\n",
    "existing_customers = existing_customers.drop_duplicates()\n",
    "\n",
    "print(existing_customers.shape[0])"
   ]
  },
  {
   "cell_type": "code",
   "execution_count": 15,
   "metadata": {},
   "outputs": [],
   "source": [
    "# Save cleaned data as expected_test_results.csv\n",
    "\n",
    "existing_customers.to_csv('../tests/test_data/expected_customer_clean_results.csv', index=False)"
   ]
  }
 ],
 "metadata": {
  "kernelspec": {
   "display_name": ".venv",
   "language": "python",
   "name": "python3"
  },
  "language_info": {
   "codemirror_mode": {
    "name": "ipython",
    "version": 3
   },
   "file_extension": ".py",
   "mimetype": "text/x-python",
   "name": "python",
   "nbconvert_exporter": "python",
   "pygments_lexer": "ipython3",
   "version": "3.13.1"
  }
 },
 "nbformat": 4,
 "nbformat_minor": 2
}
