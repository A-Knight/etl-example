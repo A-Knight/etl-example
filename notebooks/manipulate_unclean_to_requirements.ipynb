{
 "cells": [
  {
   "cell_type": "code",
   "execution_count": 3,
   "metadata": {},
   "outputs": [],
   "source": [
    "import pandas as pd\n",
    "import sqlite3"
   ]
  },
  {
   "cell_type": "code",
   "execution_count": 1,
   "metadata": {},
   "outputs": [
    {
     "name": "stdout",
     "output_type": "stream",
     "text": [
      "transactions count: 10500\n",
      "transactions duplicates count: 2468\n",
      "customers count: 5030\n",
      "customer duplicates count: 0\n",
      "merged duplicates: 2369\n"
     ]
    }
   ],
   "source": [
    "\n",
    "\n",
    "transactions = pd.read_csv(\"../walkthrough-data/unclean_transactions.csv\")\n",
    "\n",
    "# 1. How many transactions are there in total?\n",
    "\n",
    "transactions_count = transactions.shape[0]\n",
    "\n",
    "print(f\"transactions count: {transactions_count}\")\n",
    "\n",
    "# 2. How many duplicates exist in the dataset?\n",
    "\n",
    "duplicates = transactions.duplicated().sum()\n",
    "\n",
    "print(f\"transactions duplicates count: {duplicates}\")\n",
    "\n",
    "customers = pd.read_csv(\"../walkthrough-data/unclean_customers.csv\")\n",
    "\n",
    "# 3. How many customers are there in total?\n",
    "\n",
    "customers_count = customers.shape[0]\n",
    "\n",
    "print(f\"customers count: {customers_count}\")\n",
    "\n",
    "# 4. How many duplicates exist in the dataset?\n",
    "\n",
    "duplicates = customers.duplicated().sum()\n",
    "\n",
    "print(f\"customer duplicates count: {duplicates}\")\n",
    "\n",
    "# merge customers and transactions on customer_id\n",
    "\n",
    "merged = pd.merge(customers, transactions, on=\"customer_id\")\n",
    "\n",
    "# How many duplicates exist in the merged dataset?\n",
    "\n",
    "duplicates = merged.duplicated().sum()\n",
    "\n",
    "print(f\"merged duplicates: {duplicates}\")\n"
   ]
  },
  {
   "cell_type": "code",
   "execution_count": null,
   "metadata": {},
   "outputs": [],
   "source": [
    "# randomly remove 4.93% of transactions to simulate data loss\n",
    "\n",
    "transactions = transactions.sample(frac=0.9507)\n",
    "\n",
    "# how many transactions now?\n",
    "\n",
    "transactions_count = transactions.shape[0]\n",
    "\n",
    "print(transactions_count)\n",
    "\n",
    "# Randomly duplicate 518 rows to make count 10500 again\n",
    "\n",
    "transactions = pd.concat([transactions, transactions.sample(n=518)])\n",
    "\n",
    "# how many transactions now?\n",
    "\n",
    "transactions_count = transactions.shape[0]\n",
    "\n",
    "print(transactions_count)\n",
    "\n",
    "# write this back to the original file\n",
    "\n",
    "# transactions.to_csv(\"../walkthrough-data/unclean_transactions.csv\", index=False)"
   ]
  },
  {
   "cell_type": "code",
   "execution_count": null,
   "metadata": {},
   "outputs": [],
   "source": [
    "# randomly remove 3.26% of customers to simulate data loss\n",
    "\n",
    "customers = customers.sample(frac=0.9674)\n",
    "\n",
    "# how many customers now?\n",
    "\n",
    "customers_count = customers.shape[0]\n",
    "\n",
    "print(customers_count)\n",
    "\n",
    "# Randomly duplicate 170 rows to make count 5200 again\n",
    "\n",
    "customers = pd.concat([customers, customers.sample(n=170)])\n",
    "\n",
    "# how many customers now?\n",
    "\n",
    "customers_count = customers.shape[0]\n",
    "\n",
    "print(customers_count)\n",
    "\n",
    "# write this back to the original file\n",
    "\n",
    "# customers.to_csv(\"../walkthrough-data/unclean_customers.csv\", index=False)\n"
   ]
  },
  {
   "cell_type": "code",
   "execution_count": null,
   "metadata": {},
   "outputs": [],
   "source": [
    "# merge customers and transactions on customer_id\n",
    "\n",
    "merged = pd.merge(customers, transactions, on=\"customer_id\")\n",
    "\n",
    "# How many duplicates exist in the merged dataset?\n",
    "\n",
    "duplicates = merged.duplicated().sum()\n",
    "\n",
    "print(duplicates)\n"
   ]
  },
  {
   "cell_type": "code",
   "execution_count": null,
   "metadata": {},
   "outputs": [],
   "source": [
    "# How many rows in transactions have amount set to the string \"INVALID\"?\n",
    "\n",
    "invalid_amounts = transactions[transactions[\"amount\"] == \"INVALID\"].shape[0]\n",
    "\n",
    "print(invalid_amounts)\n",
    "\n",
    "# Set 0.3% of the amounts to \"INVALID\" to simulate data corruption\n",
    "\n",
    "transactions.loc[transactions.sample(frac=0.003).index, \"amount\"] = \"INVALID\"\n",
    "\n",
    "# How many rows in transactions have amount set to the string \"INVALID\" now?\n",
    "\n",
    "invalid_amounts = transactions[transactions[\"amount\"] == \"INVALID\"].shape[0]\n",
    "\n",
    "print(invalid_amounts)\n",
    "\n",
    "# How many rows are will be dropped if we removed nulls in this column?\n",
    "\n",
    "nulls = transactions[\"amount\"].isnull().sum()\n",
    "\n",
    "print(nulls)\n"
   ]
  },
  {
   "cell_type": "code",
   "execution_count": null,
   "metadata": {},
   "outputs": [],
   "source": [
    "#write back to csv files\n",
    "\n",
    "transactions.to_csv(\"../walkthrough-data/unclean_transactions.csv\", index=False)\n",
    "customers.to_csv(\"../walkthrough-data/unclean_customers.csv\", index=False)"
   ]
  },
  {
   "cell_type": "code",
   "execution_count": 27,
   "metadata": {},
   "outputs": [],
   "source": [
    "# Save to SQLite\n",
    "\n",
    "\n",
    "conn = sqlite3.connect(\"../walkthrough-data/unclean_transactions.db\")\n",
    "transactions.to_sql(\"transactions\", conn, if_exists=\"replace\", index=False)\n",
    "\n",
    "# Generate SQL file\n",
    "with open(\"../walkthrough-data/unclean_transactions.sql\", \"w\") as sql_file:\n",
    "    for line in conn.iterdump():\n",
    "        sql_file.write(f\"{line}\\n\")\n",
    "\n",
    "# Close the connection\n",
    "conn.close()"
   ]
  },
  {
   "cell_type": "code",
   "execution_count": 20,
   "metadata": {},
   "outputs": [
    {
     "name": "stdout",
     "output_type": "stream",
     "text": [
      "   COUNT(*)\n",
      "0     11052\n",
      "92\n",
      "old_transactions_count: 10960\n",
      "0\n",
      "460\n",
      "old_transactions_count: 10500\n"
     ]
    }
   ],
   "source": [
    "# Create in mem db from .db file and import table\n",
    "\n",
    "conn = sqlite3.connect(\":memory:\")\n",
    "\n",
    "with open(\"../walkthrough-data/old_unclean_transactions.sql\") as sql_file:\n",
    "    conn.executescript(sql_file.read())\n",
    "    \n",
    "# How many rows are in the transactions table?\n",
    "\n",
    "old_transactions_count = pd.read_sql(\"SELECT COUNT(*) FROM transactions\", conn)\n",
    "\n",
    "print(old_transactions_count)\n",
    "\n",
    "old_transactions = pd.read_sql(\"SELECT * FROM transactions\", conn)\n",
    "\n",
    "# duplicates?\n",
    "\n",
    "duplicates = old_transactions.duplicated().sum()\n",
    "\n",
    "print(duplicates)\n",
    "\n",
    "#drop duplicated\n",
    "\n",
    "old_transactions.drop_duplicates(inplace=True)\n",
    "\n",
    "# how many rows now?\n",
    "\n",
    "old_transactions_count = old_transactions.shape[0]\n",
    "\n",
    "print(f\"old_transactions_count: {old_transactions_count}\")\n",
    "\n",
    "# How many with transaction id over 10500?\n",
    "\n",
    "over_10500 = old_transactions[old_transactions[\"transaction_id\"] > 10500].shape[0]\n",
    "\n",
    "print(over_10500)\n",
    "\n",
    "# How many duplicates of transaction_id?\n",
    "\n",
    "duplicates = old_transactions[\"transaction_id\"].duplicated().sum()\n",
    "\n",
    "print(duplicates)\n",
    "\n",
    "# drop these duplicates\n",
    "\n",
    "old_transactions.drop_duplicates(subset=[\"transaction_id\"], inplace=True)\n",
    "\n",
    "# how many rows now?\n",
    "\n",
    "old_transactions_count = old_transactions.shape[0]\n",
    "\n",
    "print(f\"old_transactions_count: {old_transactions_count}\")\n",
    "\n",
    "# write to a temp csv file\n",
    "\n",
    "old_transactions.to_csv(\"../walkthrough-data/starter_unclean_transactions.csv\", index=False)"
   ]
  },
  {
   "cell_type": "code",
   "execution_count": 21,
   "metadata": {},
   "outputs": [
    {
     "name": "stdout",
     "output_type": "stream",
     "text": [
      "9982\n",
      "10500\n"
     ]
    }
   ],
   "source": [
    "# randomly remove 4.93% of transactions to simulate data loss\n",
    "\n",
    "old_transactions = old_transactions.sample(frac=0.9507)\n",
    "\n",
    "# how many old_transactions now?\n",
    "\n",
    "old_transactions_count = old_transactions.shape[0]\n",
    "\n",
    "print(old_transactions_count)\n",
    "\n",
    "# Randomly duplicate 518 rows to make count 10500 again\n",
    "\n",
    "old_transactions = pd.concat([old_transactions, old_transactions.sample(n=518)])\n",
    "\n",
    "# how many old_transactions now?\n",
    "\n",
    "old_transactions_count = old_transactions.shape[0]\n",
    "\n",
    "print(old_transactions_count)\n",
    "\n",
    "old_transactions.to_csv(\"../walkthrough-data/duplicates_in_unclean_transactions.csv\", index=False)\n"
   ]
  },
  {
   "cell_type": "code",
   "execution_count": 22,
   "metadata": {},
   "outputs": [
    {
     "name": "stdout",
     "output_type": "stream",
     "text": [
      "0\n"
     ]
    }
   ],
   "source": [
    "# How many with invalid amount?\n",
    "\n",
    "invalid_amounts = old_transactions[old_transactions[\"amount\"] == \"INVALID\"].shape[0]\n",
    "\n",
    "print(invalid_amounts)\n",
    "\n"
   ]
  },
  {
   "cell_type": "code",
   "execution_count": 23,
   "metadata": {},
   "outputs": [
    {
     "name": "stdout",
     "output_type": "stream",
     "text": [
      "41\n"
     ]
    },
    {
     "name": "stderr",
     "output_type": "stream",
     "text": [
      "/var/folders/jf/3t017l9948jgt5frxgh1sqjm0000gn/T/ipykernel_53474/1619114310.py:3: FutureWarning: Setting an item of incompatible dtype is deprecated and will raise an error in a future version of pandas. Value 'INVALID' has dtype incompatible with float64, please explicitly cast to a compatible dtype first.\n",
      "  old_transactions.loc[old_transactions.sample(frac=0.0036).index, \"amount\"] = \"INVALID\"\n"
     ]
    }
   ],
   "source": [
    "# randomly add 0.36% of invalid amounts\n",
    "\n",
    "old_transactions.loc[old_transactions.sample(frac=0.0036).index, \"amount\"] = \"INVALID\"\n",
    "\n",
    "# How many with invalid amount now?\n",
    "\n",
    "invalid_amounts = old_transactions[old_transactions[\"amount\"] == \"INVALID\"].shape[0]\n",
    "\n",
    "print(invalid_amounts)\n",
    "\n"
   ]
  },
  {
   "cell_type": "code",
   "execution_count": 24,
   "metadata": {},
   "outputs": [
    {
     "name": "stdout",
     "output_type": "stream",
     "text": [
      "46\n"
     ]
    }
   ],
   "source": [
    "# how many with other nulls or Nones?\n",
    "\n",
    "nulls = old_transactions[\"amount\"].isnull().sum()\n",
    "\n",
    "print(nulls)"
   ]
  },
  {
   "cell_type": "code",
   "execution_count": 31,
   "metadata": {},
   "outputs": [
    {
     "name": "stdout",
     "output_type": "stream",
     "text": [
      "old_transactions duplicated 518\n"
     ]
    }
   ],
   "source": [
    "# Set of checks\n",
    "old_transactions_duplicates = old_transactions.duplicated().sum()\n",
    "\n",
    "print(f\"old_transactions duplicated: {old_transactions_duplicates}\")"
   ]
  },
  {
   "cell_type": "code",
   "execution_count": 32,
   "metadata": {},
   "outputs": [
    {
     "name": "stdout",
     "output_type": "stream",
     "text": [
      "old_transactions nulls and invalids: 87\n"
     ]
    }
   ],
   "source": [
    "# nulls and invalids to remove\n",
    "\n",
    "old_transactions_nulls_invalids = old_transactions[old_transactions[\"amount\"].isnull() | (old_transactions[\"amount\"] == \"INVALID\")].shape[0]\n",
    "\n",
    "print(f\"old_transactions nulls and invalids: {old_transactions_nulls_invalids}\")"
   ]
  },
  {
   "cell_type": "code",
   "execution_count": 33,
   "metadata": {},
   "outputs": [
    {
     "name": "stdout",
     "output_type": "stream",
     "text": [
      "duplicates with nulls or invalids: 3\n"
     ]
    }
   ],
   "source": [
    "# How many duplicated rows have nulls or invalids?\n",
    "\n",
    "duplicates = old_transactions[old_transactions.duplicated() & (old_transactions[\"amount\"].isnull() | (old_transactions[\"amount\"] == \"INVALID\"))].shape[0]\n",
    "\n",
    "print(f\"duplicates with nulls or invalids: {duplicates}\")\n"
   ]
  },
  {
   "cell_type": "code",
   "execution_count": 34,
   "metadata": {},
   "outputs": [],
   "source": [
    "# Write unclean data\n",
    "\n",
    "old_transactions.to_csv(\"../walkthrough-data/unclean_transactions.csv\", index=False)"
   ]
  },
  {
   "cell_type": "code",
   "execution_count": 42,
   "metadata": {},
   "outputs": [
    {
     "name": "stdout",
     "output_type": "stream",
     "text": [
      "duplicates: 518\n",
      "nulls: 46\n",
      "invalids: 41\n",
      "missing_dates: 208\n",
      "duplicates with missing or invalid data: 15\n",
      "check_transactions_count: 9702\n"
     ]
    }
   ],
   "source": [
    "# Removed duplicates, nulls and invalids\n",
    "\n",
    "check_transactions = pd.read_csv(\"../walkthrough-data/unclean_transactions.csv\")\n",
    "\n",
    "# How many duplicates to remove\n",
    "\n",
    "duplicates = check_transactions.duplicated().sum()\n",
    "\n",
    "print(f\"duplicates: {duplicates}\")\n",
    "\n",
    "# How many missing to remove?\n",
    "\n",
    "nulls = check_transactions[\"amount\"].isnull().sum()\n",
    "\n",
    "print(f\"nulls: {nulls}\")\n",
    "\n",
    "# How many invalids to remove?\n",
    "\n",
    "invalids = check_transactions[check_transactions[\"amount\"] == \"INVALID\"].shape[0]\n",
    "\n",
    "print(f\"invalids: {invalids}\")\n",
    "\n",
    "# How many missing dates?\n",
    "\n",
    "missing_dates = check_transactions[\"transaction_date\"].isnull().sum()\n",
    "\n",
    "print(f\"missing_dates: {missing_dates}\")\n",
    "\n",
    "# How many duplicates have missing or invalid data?\n",
    "\n",
    "duplicates = check_transactions[check_transactions.duplicated() & (check_transactions[\"amount\"].isnull() | (check_transactions[\"amount\"] == \"INVALID\") | check_transactions[\"transaction_date\"].isnull())].shape[0]\n",
    "\n",
    "print(f\"duplicates with missing or invalid data: {duplicates}\")\n",
    "\n",
    "# remove duplicates, nulls and invalids\n",
    "\n",
    "check_transactions.drop_duplicates(inplace=True)\n",
    "check_transactions.dropna(subset=[\"amount\"], inplace=True)\n",
    "check_transactions.dropna(subset=[\"transaction_date\"], inplace=True)\n",
    "check_transactions = check_transactions[check_transactions[\"amount\"] != \"INVALID\"]\n",
    "\n",
    "# report how many rows are left\n",
    "\n",
    "check_transactions_count = check_transactions.shape[0]\n",
    "\n",
    "print(f\"check_transactions_count: {check_transactions_count}\")"
   ]
  },
  {
   "cell_type": "code",
   "execution_count": 44,
   "metadata": {},
   "outputs": [
    {
     "name": "stdout",
     "output_type": "stream",
     "text": [
      "   COUNT(*)\n",
      "0     10500\n"
     ]
    }
   ],
   "source": [
    "# create in mem database from unclean_transactions.csv\n",
    "\n",
    "conn = sqlite3.connect(\":memory:\")\n",
    "\n",
    "unclean_transactions = pd.read_csv(\"../walkthrough-data/unclean_transactions.csv\")\n",
    "\n",
    "unclean_transactions.to_sql(\"transactions\", conn, if_exists=\"replace\", index=False)\n",
    "\n",
    "# How many rows are in the transactions table?\n",
    "\n",
    "unclean_transactions_count = pd.read_sql(\"SELECT COUNT(*) FROM transactions\", conn)\n",
    "\n",
    "print(unclean_transactions_count)"
   ]
  },
  {
   "cell_type": "code",
   "execution_count": 45,
   "metadata": {},
   "outputs": [],
   "source": [
    "#Create a .db file and an SQL file from the in mem db\n",
    "\n",
    "with open(\"../walkthrough-data/new_unclean_transactions.sql\", \"w\") as sql_file:\n",
    "    for line in conn.iterdump():\n",
    "        sql_file.write(f\"{line}\\n\")\n",
    "\n",
    "conn.close()\n",
    "\n",
    "# create a .db file from the unclean_transactions.csv\n"
   ]
  }
 ],
 "metadata": {
  "kernelspec": {
   "display_name": ".venv",
   "language": "python",
   "name": "python3"
  },
  "language_info": {
   "codemirror_mode": {
    "name": "ipython",
    "version": 3
   },
   "file_extension": ".py",
   "mimetype": "text/x-python",
   "name": "python",
   "nbconvert_exporter": "python",
   "pygments_lexer": "ipython3",
   "version": "3.13.1"
  }
 },
 "nbformat": 4,
 "nbformat_minor": 2
}
