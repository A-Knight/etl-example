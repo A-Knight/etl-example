{
 "cells": [
  {
   "cell_type": "code",
   "execution_count": 2,
   "metadata": {},
   "outputs": [
    {
     "name": "stdout",
     "output_type": "stream",
     "text": [
      "Number of records in in-memory database: 10500\n",
      "Database saved to /Users/edwright/DFA-Repos/de-2410-a/etl-example/walkthrough-data/unclean_transactions.db\n"
     ]
    }
   ],
   "source": [
    "import sqlite3\n",
    "import pandas as pd\n",
    "\n",
    "# Create an in-memory SQLite database\n",
    "in_memory_conn = sqlite3.connect(':memory:')\n",
    "\n",
    "# Load the .sql file to populate the in-memory database\n",
    "sql_file_path = '/Users/edwright/DFA-Repos/de-2410-a/etl-example/walkthrough-data/unclean_transactions.sql'\n",
    "with open(sql_file_path, 'r') as sql_file:\n",
    "    in_memory_conn.executescript(sql_file.read())\n",
    "\n",
    "# Query the in-memory database to check number of records\n",
    "query = 'SELECT COUNT(*) FROM transactions;'\n",
    "print(f\"Number of records in in-memory database: {in_memory_conn.execute(query).fetchone()[0]}\")\n",
    "\n",
    "\n",
    "\n",
    "# Save the in-memory database to a file\n",
    "file_path = '/Users/edwright/DFA-Repos/de-2410-a/etl-example/walkthrough-data/unclean_transactions.db'\n",
    "with sqlite3.connect(file_path) as file_conn:\n",
    "    in_memory_conn.backup(file_conn)\n",
    "\n",
    "print(f\"Database saved to {file_path}\")\n",
    "\n",
    "# Close the in-memory connection\n",
    "in_memory_conn.close()"
   ]
  }
 ],
 "metadata": {
  "kernelspec": {
   "display_name": ".venv",
   "language": "python",
   "name": "python3"
  },
  "language_info": {
   "codemirror_mode": {
    "name": "ipython",
    "version": 3
   },
   "file_extension": ".py",
   "mimetype": "text/x-python",
   "name": "python",
   "nbconvert_exporter": "python",
   "pygments_lexer": "ipython3",
   "version": "3.13.1"
  }
 },
 "nbformat": 4,
 "nbformat_minor": 2
}
